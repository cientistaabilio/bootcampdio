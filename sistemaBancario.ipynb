{
  "nbformat": 4,
  "nbformat_minor": 0,
  "metadata": {
    "colab": {
      "provenance": [],
      "authorship_tag": "ABX9TyP1dUt2Lu6TQWg3+qMhIkaO",
      "include_colab_link": true
    },
    "kernelspec": {
      "name": "python3",
      "display_name": "Python 3"
    },
    "language_info": {
      "name": "python"
    }
  },
  "cells": [
    {
      "cell_type": "markdown",
      "metadata": {
        "id": "view-in-github",
        "colab_type": "text"
      },
      "source": [
        "<a href=\"https://colab.research.google.com/github/cientistaabilio/bootcampdio/blob/main/sistemaBancario.ipynb\" target=\"_parent\"><img src=\"https://colab.research.google.com/assets/colab-badge.svg\" alt=\"Open In Colab\"/></a>"
      ]
    },
    {
      "cell_type": "markdown",
      "source": [
        "# projeto de sistema bancário"
      ],
      "metadata": {
        "id": "m2aEa5xSTnSQ"
      }
    },
    {
      "cell_type": "code",
      "source": [
        "#saldo_atual,opMenuPrincipal,valor_sacado,limite_saque_diario = 0,0,0,0\n",
        "#achei mais amigavel deixar separado por linha\n",
        "saldo_atual = 0\n",
        "opMenuPrincipal = 0\n",
        "valor_sacado = 0\n",
        "limite_saque_diario = 0"
      ],
      "metadata": {
        "id": "7tNWlhRMTm06"
      },
      "execution_count": 72,
      "outputs": []
    },
    {
      "cell_type": "code",
      "source": [
        "menu= (\"Menu \\n 1 - Sacar \\n 2 - Depositar \\n 3 - Extrato \\n 4 - Sair\\n\\n \")"
      ],
      "metadata": {
        "id": "TSbzRY_IWE10"
      },
      "execution_count": 73,
      "outputs": []
    },
    {
      "cell_type": "code",
      "source": [
        "#Trata valores do tipo 2350,40 aonde o correto é 2350.40 então o sistema substituiu o , por .\n",
        "#E permite a execução\n",
        "def input_valor(valor):\n",
        "  valor_sem_tratar = input(valor)\n",
        "  valor_tratado = valor_sem_tratar.replace(',', '.')\n",
        "  return float(valor_tratado)\n",
        "#Esse código estava aninhado com a lógica, porem percebi que havia muita redudancia.\n",
        "#decidi criar uma função e apenas chamar ela no momento que fosse necessário.\n"
      ],
      "metadata": {
        "id": "CQy_LkVBvQf-"
      },
      "execution_count": 74,
      "outputs": []
    },
    {
      "cell_type": "code",
      "source": [
        "while opMenuPrincipal != 4:  # Use 4 para sair do loop\n",
        "    print(menu)\n",
        "    opMenuPrincipal = int(input('Qual opção irá ser selecionada: \\n '))  # Converta para inteiro a opção do menu\n",
        "\n",
        "    if opMenuPrincipal == 1:  # Sacar\n",
        "        if saldo_atual==0:#Caso o saldo seja 0, o código irá apenas mostrar uma mensagem\n",
        "          print(f\"Não há saldo na conta.R$ {saldo_atual:.2f}\\n \")\n",
        "          continue\n",
        "        elif limite_saque_diario >3:\n",
        "          print(\"Limite diário de saques alcançados, por favor faça o saque no dia seguinte ou procure atendimento em uma caixa.\")\n",
        "          continue\n",
        "\n",
        "        valor_sacado = input_valor(\"\\n Informe o valor a ser sacado R$ \")#como o valor não é 0 e o limite ainda não passou de saques diário, perguntamos qual o valor sacado\n",
        "\n",
        "        if valor_sacado > saldo_atual:#validamos se o valor sacado é maior que o saldo atual\n",
        "          print(f\"Não há valor suficiente R$ {saldo_atual:.2f}\\n \")\n",
        "        else:\n",
        "          saldo_atual -= valor_sacado\n",
        "          print(f\"Saque de R$ {valor_sacado:.2f} realizado. Saldo Atual: R$ {saldo_atual:.2f}\\n\")\n",
        "          limite_saque_diario += limite_saque_diario+1\n",
        "\n",
        "\n",
        "\n",
        "    elif opMenuPrincipal == 2:  # Depositar\n",
        "        valor_deposito = input_valor(\"\\n Informe o valor a ser depositado R$\")\n",
        "        saldo_atual += valor_deposito\n",
        "        print(f\"Valor depositado com sucesso\\nSaldo Atual: R$ {saldo_atual:.2f}\")\n",
        "\n",
        "    elif opMenuPrincipal == 3:  # Extrato\n",
        "        print(f\"\\n Extrato \\n R$ {saldo_atual:.2f}\\n\")\n",
        "\n",
        "    elif opMenuPrincipal == 4:  # Sair\n",
        "        print(\"\\n\\n Obrigado, sistema finalizado\")\n",
        "        break  # Sai do loop\n",
        "\n",
        "    else:\n",
        "        print(\"\\n\\n Opção inválida. Escolha uma opção válida do menu.\")"
      ],
      "metadata": {
        "colab": {
          "base_uri": "https://localhost:8080/"
        },
        "id": "oOGz5VEkVxzN",
        "outputId": "2ca7c4fd-8258-4c84-9921-9b19ec671597"
      },
      "execution_count": 76,
      "outputs": [
        {
          "output_type": "stream",
          "name": "stdout",
          "text": [
            "Menu \n",
            " 1 - Sacar \n",
            " 2 - Depositar \n",
            " 3 - Extrato \n",
            " 4 - Sair\n",
            "\n",
            " \n",
            "Qual opção irá ser selecionada: \n",
            " 3\n",
            "\n",
            " Extrato \n",
            " R$ 0.00\n",
            "\n",
            "Menu \n",
            " 1 - Sacar \n",
            " 2 - Depositar \n",
            " 3 - Extrato \n",
            " 4 - Sair\n",
            "\n",
            " \n",
            "Qual opção irá ser selecionada: \n",
            " 2\n",
            "\n",
            " Informe o valor a ser depositado R$2505,50\n",
            "Valor depositado com sucesso\n",
            "Saldo Atual: R$ 2505.50\n",
            "Menu \n",
            " 1 - Sacar \n",
            " 2 - Depositar \n",
            " 3 - Extrato \n",
            " 4 - Sair\n",
            "\n",
            " \n",
            "Qual opção irá ser selecionada: \n",
            " 1\n",
            "\n",
            " Informe o valor a ser sacado R$ 500\n",
            "Saque de R$ 500.00 realizado. Saldo Atual: R$ 2005.50\n",
            "\n",
            "Menu \n",
            " 1 - Sacar \n",
            " 2 - Depositar \n",
            " 3 - Extrato \n",
            " 4 - Sair\n",
            "\n",
            " \n",
            "Qual opção irá ser selecionada: \n",
            " 1\n",
            "\n",
            " Informe o valor a ser sacado R$ 300,43\n",
            "Saque de R$ 300.43 realizado. Saldo Atual: R$ 1705.07\n",
            "\n",
            "Menu \n",
            " 1 - Sacar \n",
            " 2 - Depositar \n",
            " 3 - Extrato \n",
            " 4 - Sair\n",
            "\n",
            " \n",
            "Qual opção irá ser selecionada: \n",
            " 4\n",
            "\n",
            "\n",
            " Obrigado, sistema finalizado\n"
          ]
        }
      ]
    },
    {
      "cell_type": "markdown",
      "source": [],
      "metadata": {
        "id": "tNacNFluvwqv"
      }
    }
  ]
}